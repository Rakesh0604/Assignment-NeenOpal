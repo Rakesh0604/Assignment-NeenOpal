{
 "cells": [
  {
   "cell_type": "markdown",
   "id": "578f4788",
   "metadata": {},
   "source": [
    "# TASK 1"
   ]
  },
  {
   "cell_type": "markdown",
   "id": "0c8c69f8",
   "metadata": {},
   "source": [
    "**Description**\n",
    "\n",
    ".There are 2 datasets present in the file. Data 1 and Data 2.\n",
    "    \n",
    ".The primary key for both data1 and data2 is Order Id + Product ID combination (i.e. the individual datasets do not have any duplicate on this combination)\n",
    "\n",
    "**Provide solution and approach for the following:**\n",
    "\n",
    "1.How to identify the Records (Order ID + Product ID combination) present in data1 but missing in data2*(Specify the number of records missing in your answer)*\n",
    "\n",
    "2.How to identify the Records (Order ID + Product ID combination) missing in data1 but present in data2 *(Specify the number of records missing in your answer)*\n",
    "\n",
    "3.Find the Sum of the total Qty of Records missing in data1 but present in data2\n",
    "\n",
    "4.Find the total number of unique records (Order ID + Product ID combination) present in the combined dataset of data1 and data2"
   ]
  },
  {
   "cell_type": "code",
   "execution_count": 1,
   "id": "b60174a6",
   "metadata": {},
   "outputs": [],
   "source": [
    "#Importing Pandas for data analysis\n",
    "import pandas as pd"
   ]
  },
  {
   "cell_type": "markdown",
   "id": "37047ce6",
   "metadata": {},
   "source": [
    "A. Downloaded the excel file and then converted it into 2 seperate csv files for each dataset i.e data1 and data2"
   ]
  },
  {
   "cell_type": "code",
   "execution_count": 2,
   "id": "9fa6685c",
   "metadata": {},
   "outputs": [
    {
     "data": {
      "text/html": [
       "<div>\n",
       "<style scoped>\n",
       "    .dataframe tbody tr th:only-of-type {\n",
       "        vertical-align: middle;\n",
       "    }\n",
       "\n",
       "    .dataframe tbody tr th {\n",
       "        vertical-align: top;\n",
       "    }\n",
       "\n",
       "    .dataframe thead th {\n",
       "        text-align: right;\n",
       "    }\n",
       "</style>\n",
       "<table border=\"1\" class=\"dataframe\">\n",
       "  <thead>\n",
       "    <tr style=\"text-align: right;\">\n",
       "      <th></th>\n",
       "      <th>Order ID</th>\n",
       "      <th>Product ID</th>\n",
       "      <th>Qty</th>\n",
       "    </tr>\n",
       "  </thead>\n",
       "  <tbody>\n",
       "    <tr>\n",
       "      <th>0</th>\n",
       "      <td>CA-2014-100006</td>\n",
       "      <td>TEC-PH-10002075</td>\n",
       "      <td>3</td>\n",
       "    </tr>\n",
       "    <tr>\n",
       "      <th>1</th>\n",
       "      <td>CA-2014-100090</td>\n",
       "      <td>FUR-TA-10003715</td>\n",
       "      <td>3</td>\n",
       "    </tr>\n",
       "    <tr>\n",
       "      <th>2</th>\n",
       "      <td>CA-2014-100090</td>\n",
       "      <td>OFF-BI-10001597</td>\n",
       "      <td>6</td>\n",
       "    </tr>\n",
       "    <tr>\n",
       "      <th>3</th>\n",
       "      <td>CA-2014-100293</td>\n",
       "      <td>OFF-PA-10000176</td>\n",
       "      <td>6</td>\n",
       "    </tr>\n",
       "    <tr>\n",
       "      <th>4</th>\n",
       "      <td>CA-2014-100328</td>\n",
       "      <td>OFF-BI-10000343</td>\n",
       "      <td>1</td>\n",
       "    </tr>\n",
       "    <tr>\n",
       "      <th>...</th>\n",
       "      <td>...</td>\n",
       "      <td>...</td>\n",
       "      <td>...</td>\n",
       "    </tr>\n",
       "    <tr>\n",
       "      <th>9473</th>\n",
       "      <td>US-2017-169551</td>\n",
       "      <td>OFF-PA-10004100</td>\n",
       "      <td>3</td>\n",
       "    </tr>\n",
       "    <tr>\n",
       "      <th>9474</th>\n",
       "      <td>US-2017-169551</td>\n",
       "      <td>OFF-ST-10004835</td>\n",
       "      <td>3</td>\n",
       "    </tr>\n",
       "    <tr>\n",
       "      <th>9475</th>\n",
       "      <td>US-2017-169551</td>\n",
       "      <td>TEC-AC-10002018</td>\n",
       "      <td>3</td>\n",
       "    </tr>\n",
       "    <tr>\n",
       "      <th>9476</th>\n",
       "      <td>US-2017-169551</td>\n",
       "      <td>TEC-AC-10003033</td>\n",
       "      <td>2</td>\n",
       "    </tr>\n",
       "    <tr>\n",
       "      <th>9477</th>\n",
       "      <td>US-2017-169551</td>\n",
       "      <td>TEC-PH-10001363</td>\n",
       "      <td>2</td>\n",
       "    </tr>\n",
       "  </tbody>\n",
       "</table>\n",
       "<p>9478 rows × 3 columns</p>\n",
       "</div>"
      ],
      "text/plain": [
       "            Order ID       Product ID  Qty\n",
       "0     CA-2014-100006  TEC-PH-10002075    3\n",
       "1     CA-2014-100090  FUR-TA-10003715    3\n",
       "2     CA-2014-100090  OFF-BI-10001597    6\n",
       "3     CA-2014-100293  OFF-PA-10000176    6\n",
       "4     CA-2014-100328  OFF-BI-10000343    1\n",
       "...              ...              ...  ...\n",
       "9473  US-2017-169551  OFF-PA-10004100    3\n",
       "9474  US-2017-169551  OFF-ST-10004835    3\n",
       "9475  US-2017-169551  TEC-AC-10002018    3\n",
       "9476  US-2017-169551  TEC-AC-10003033    2\n",
       "9477  US-2017-169551  TEC-PH-10001363    2\n",
       "\n",
       "[9478 rows x 3 columns]"
      ]
     },
     "execution_count": 2,
     "metadata": {},
     "output_type": "execute_result"
    }
   ],
   "source": [
    "#Reading Data1\n",
    "df1 = pd.read_csv('Data1.csv')\n",
    "df1"
   ]
  },
  {
   "cell_type": "code",
   "execution_count": 3,
   "id": "6712fa26",
   "metadata": {},
   "outputs": [
    {
     "data": {
      "text/html": [
       "<div>\n",
       "<style scoped>\n",
       "    .dataframe tbody tr th:only-of-type {\n",
       "        vertical-align: middle;\n",
       "    }\n",
       "\n",
       "    .dataframe tbody tr th {\n",
       "        vertical-align: top;\n",
       "    }\n",
       "\n",
       "    .dataframe thead th {\n",
       "        text-align: right;\n",
       "    }\n",
       "</style>\n",
       "<table border=\"1\" class=\"dataframe\">\n",
       "  <thead>\n",
       "    <tr style=\"text-align: right;\">\n",
       "      <th></th>\n",
       "      <th>Order ID</th>\n",
       "      <th>Product ID</th>\n",
       "      <th>Qty</th>\n",
       "    </tr>\n",
       "  </thead>\n",
       "  <tbody>\n",
       "    <tr>\n",
       "      <th>0</th>\n",
       "      <td>CA-2014-100090</td>\n",
       "      <td>FUR-TA-10003715</td>\n",
       "      <td>3</td>\n",
       "    </tr>\n",
       "    <tr>\n",
       "      <th>1</th>\n",
       "      <td>CA-2014-100090</td>\n",
       "      <td>OFF-BI-10001597</td>\n",
       "      <td>6</td>\n",
       "    </tr>\n",
       "    <tr>\n",
       "      <th>2</th>\n",
       "      <td>CA-2014-100293</td>\n",
       "      <td>OFF-PA-10000176</td>\n",
       "      <td>6</td>\n",
       "    </tr>\n",
       "    <tr>\n",
       "      <th>3</th>\n",
       "      <td>CA-2014-100328</td>\n",
       "      <td>OFF-BI-10000343</td>\n",
       "      <td>1</td>\n",
       "    </tr>\n",
       "    <tr>\n",
       "      <th>4</th>\n",
       "      <td>CA-2014-100363</td>\n",
       "      <td>OFF-FA-10000611</td>\n",
       "      <td>2</td>\n",
       "    </tr>\n",
       "    <tr>\n",
       "      <th>...</th>\n",
       "      <td>...</td>\n",
       "      <td>...</td>\n",
       "      <td>...</td>\n",
       "    </tr>\n",
       "    <tr>\n",
       "      <th>9474</th>\n",
       "      <td>US-2017-169551</td>\n",
       "      <td>OFF-PA-10004100</td>\n",
       "      <td>3</td>\n",
       "    </tr>\n",
       "    <tr>\n",
       "      <th>9475</th>\n",
       "      <td>US-2017-169551</td>\n",
       "      <td>OFF-ST-10004835</td>\n",
       "      <td>3</td>\n",
       "    </tr>\n",
       "    <tr>\n",
       "      <th>9476</th>\n",
       "      <td>US-2017-169551</td>\n",
       "      <td>TEC-AC-10002018</td>\n",
       "      <td>3</td>\n",
       "    </tr>\n",
       "    <tr>\n",
       "      <th>9477</th>\n",
       "      <td>US-2017-169551</td>\n",
       "      <td>TEC-AC-10003033</td>\n",
       "      <td>2</td>\n",
       "    </tr>\n",
       "    <tr>\n",
       "      <th>9478</th>\n",
       "      <td>US-2017-169551</td>\n",
       "      <td>TEC-PH-10001363</td>\n",
       "      <td>2</td>\n",
       "    </tr>\n",
       "  </tbody>\n",
       "</table>\n",
       "<p>9479 rows × 3 columns</p>\n",
       "</div>"
      ],
      "text/plain": [
       "            Order ID       Product ID  Qty\n",
       "0     CA-2014-100090  FUR-TA-10003715    3\n",
       "1     CA-2014-100090  OFF-BI-10001597    6\n",
       "2     CA-2014-100293  OFF-PA-10000176    6\n",
       "3     CA-2014-100328  OFF-BI-10000343    1\n",
       "4     CA-2014-100363  OFF-FA-10000611    2\n",
       "...              ...              ...  ...\n",
       "9474  US-2017-169551  OFF-PA-10004100    3\n",
       "9475  US-2017-169551  OFF-ST-10004835    3\n",
       "9476  US-2017-169551  TEC-AC-10002018    3\n",
       "9477  US-2017-169551  TEC-AC-10003033    2\n",
       "9478  US-2017-169551  TEC-PH-10001363    2\n",
       "\n",
       "[9479 rows x 3 columns]"
      ]
     },
     "execution_count": 3,
     "metadata": {},
     "output_type": "execute_result"
    }
   ],
   "source": [
    "#Reading Data2\n",
    "df2 = pd.read_csv('Data2.csv')\n",
    "df2"
   ]
  },
  {
   "cell_type": "markdown",
   "id": "46ee01f1",
   "metadata": {},
   "source": [
    "B. Renaming the columns Product ID and Order ID as Product_ID and Order_ID respectively"
   ]
  },
  {
   "cell_type": "code",
   "execution_count": 4,
   "id": "efc81adb",
   "metadata": {},
   "outputs": [],
   "source": [
    "#Renaming the Columns\n",
    "df1.rename(columns={'Order ID': 'Order_ID', 'Product ID': 'Product_ID'}, inplace=True)\n",
    "df2.rename(columns={'Order ID': 'Order_ID', 'Product ID': 'Product_ID'}, inplace=True)"
   ]
  },
  {
   "cell_type": "markdown",
   "id": "25ae5481",
   "metadata": {},
   "source": [
    "C. Combining Order_ID and Product_ID as they both are primary keys and make a new column as “NewPK” which is the new Primary key for the datasets"
   ]
  },
  {
   "cell_type": "code",
   "execution_count": 5,
   "id": "96b16b03",
   "metadata": {},
   "outputs": [],
   "source": [
    "#Concatenating Primary Keys 'Order_ID' and 'Product_ID' into one key 'NewPK'\n",
    "cols = ['Order_ID','Product_ID']\n",
    "df1['NewPK'] = df1[cols].apply(lambda row: '_'.join(row.values.astype(str)), axis=1)\n",
    "df2['NewPK'] = df2[cols].apply(lambda row: '_'.join(row.values.astype(str)), axis=1)"
   ]
  },
  {
   "cell_type": "code",
   "execution_count": 6,
   "id": "97158f83",
   "metadata": {},
   "outputs": [
    {
     "data": {
      "text/html": [
       "<div>\n",
       "<style scoped>\n",
       "    .dataframe tbody tr th:only-of-type {\n",
       "        vertical-align: middle;\n",
       "    }\n",
       "\n",
       "    .dataframe tbody tr th {\n",
       "        vertical-align: top;\n",
       "    }\n",
       "\n",
       "    .dataframe thead th {\n",
       "        text-align: right;\n",
       "    }\n",
       "</style>\n",
       "<table border=\"1\" class=\"dataframe\">\n",
       "  <thead>\n",
       "    <tr style=\"text-align: right;\">\n",
       "      <th></th>\n",
       "      <th>Order_ID</th>\n",
       "      <th>Product_ID</th>\n",
       "      <th>Qty</th>\n",
       "      <th>NewPK</th>\n",
       "    </tr>\n",
       "  </thead>\n",
       "  <tbody>\n",
       "    <tr>\n",
       "      <th>0</th>\n",
       "      <td>CA-2014-100006</td>\n",
       "      <td>TEC-PH-10002075</td>\n",
       "      <td>3</td>\n",
       "      <td>CA-2014-100006_TEC-PH-10002075</td>\n",
       "    </tr>\n",
       "    <tr>\n",
       "      <th>1</th>\n",
       "      <td>CA-2014-100090</td>\n",
       "      <td>FUR-TA-10003715</td>\n",
       "      <td>3</td>\n",
       "      <td>CA-2014-100090_FUR-TA-10003715</td>\n",
       "    </tr>\n",
       "    <tr>\n",
       "      <th>2</th>\n",
       "      <td>CA-2014-100090</td>\n",
       "      <td>OFF-BI-10001597</td>\n",
       "      <td>6</td>\n",
       "      <td>CA-2014-100090_OFF-BI-10001597</td>\n",
       "    </tr>\n",
       "    <tr>\n",
       "      <th>3</th>\n",
       "      <td>CA-2014-100293</td>\n",
       "      <td>OFF-PA-10000176</td>\n",
       "      <td>6</td>\n",
       "      <td>CA-2014-100293_OFF-PA-10000176</td>\n",
       "    </tr>\n",
       "    <tr>\n",
       "      <th>4</th>\n",
       "      <td>CA-2014-100328</td>\n",
       "      <td>OFF-BI-10000343</td>\n",
       "      <td>1</td>\n",
       "      <td>CA-2014-100328_OFF-BI-10000343</td>\n",
       "    </tr>\n",
       "  </tbody>\n",
       "</table>\n",
       "</div>"
      ],
      "text/plain": [
       "         Order_ID       Product_ID  Qty                           NewPK\n",
       "0  CA-2014-100006  TEC-PH-10002075    3  CA-2014-100006_TEC-PH-10002075\n",
       "1  CA-2014-100090  FUR-TA-10003715    3  CA-2014-100090_FUR-TA-10003715\n",
       "2  CA-2014-100090  OFF-BI-10001597    6  CA-2014-100090_OFF-BI-10001597\n",
       "3  CA-2014-100293  OFF-PA-10000176    6  CA-2014-100293_OFF-PA-10000176\n",
       "4  CA-2014-100328  OFF-BI-10000343    1  CA-2014-100328_OFF-BI-10000343"
      ]
     },
     "execution_count": 6,
     "metadata": {},
     "output_type": "execute_result"
    }
   ],
   "source": [
    "#Checking the updated data1\n",
    "df1.head()"
   ]
  },
  {
   "cell_type": "code",
   "execution_count": 7,
   "id": "d28ebf25",
   "metadata": {},
   "outputs": [
    {
     "data": {
      "text/html": [
       "<div>\n",
       "<style scoped>\n",
       "    .dataframe tbody tr th:only-of-type {\n",
       "        vertical-align: middle;\n",
       "    }\n",
       "\n",
       "    .dataframe tbody tr th {\n",
       "        vertical-align: top;\n",
       "    }\n",
       "\n",
       "    .dataframe thead th {\n",
       "        text-align: right;\n",
       "    }\n",
       "</style>\n",
       "<table border=\"1\" class=\"dataframe\">\n",
       "  <thead>\n",
       "    <tr style=\"text-align: right;\">\n",
       "      <th></th>\n",
       "      <th>Order_ID</th>\n",
       "      <th>Product_ID</th>\n",
       "      <th>Qty</th>\n",
       "      <th>NewPK</th>\n",
       "    </tr>\n",
       "  </thead>\n",
       "  <tbody>\n",
       "    <tr>\n",
       "      <th>0</th>\n",
       "      <td>CA-2014-100090</td>\n",
       "      <td>FUR-TA-10003715</td>\n",
       "      <td>3</td>\n",
       "      <td>CA-2014-100090_FUR-TA-10003715</td>\n",
       "    </tr>\n",
       "    <tr>\n",
       "      <th>1</th>\n",
       "      <td>CA-2014-100090</td>\n",
       "      <td>OFF-BI-10001597</td>\n",
       "      <td>6</td>\n",
       "      <td>CA-2014-100090_OFF-BI-10001597</td>\n",
       "    </tr>\n",
       "    <tr>\n",
       "      <th>2</th>\n",
       "      <td>CA-2014-100293</td>\n",
       "      <td>OFF-PA-10000176</td>\n",
       "      <td>6</td>\n",
       "      <td>CA-2014-100293_OFF-PA-10000176</td>\n",
       "    </tr>\n",
       "    <tr>\n",
       "      <th>3</th>\n",
       "      <td>CA-2014-100328</td>\n",
       "      <td>OFF-BI-10000343</td>\n",
       "      <td>1</td>\n",
       "      <td>CA-2014-100328_OFF-BI-10000343</td>\n",
       "    </tr>\n",
       "    <tr>\n",
       "      <th>4</th>\n",
       "      <td>CA-2014-100363</td>\n",
       "      <td>OFF-FA-10000611</td>\n",
       "      <td>2</td>\n",
       "      <td>CA-2014-100363_OFF-FA-10000611</td>\n",
       "    </tr>\n",
       "  </tbody>\n",
       "</table>\n",
       "</div>"
      ],
      "text/plain": [
       "         Order_ID       Product_ID  Qty                           NewPK\n",
       "0  CA-2014-100090  FUR-TA-10003715    3  CA-2014-100090_FUR-TA-10003715\n",
       "1  CA-2014-100090  OFF-BI-10001597    6  CA-2014-100090_OFF-BI-10001597\n",
       "2  CA-2014-100293  OFF-PA-10000176    6  CA-2014-100293_OFF-PA-10000176\n",
       "3  CA-2014-100328  OFF-BI-10000343    1  CA-2014-100328_OFF-BI-10000343\n",
       "4  CA-2014-100363  OFF-FA-10000611    2  CA-2014-100363_OFF-FA-10000611"
      ]
     },
     "execution_count": 7,
     "metadata": {},
     "output_type": "execute_result"
    }
   ],
   "source": [
    "#Checking the updated data2\n",
    "df2.head()"
   ]
  },
  {
   "cell_type": "markdown",
   "id": "9e7268cc",
   "metadata": {},
   "source": [
    "**1.How to identify the Records (Order ID + Product ID combination) present in data1 but missing in data2 (Specify the number of records missing in your answer)**"
   ]
  },
  {
   "cell_type": "code",
   "execution_count": 8,
   "id": "525b0c8c",
   "metadata": {},
   "outputs": [],
   "source": [
    "#Fetching data which is in data1 but not in data2\n",
    "#x contains the data which is only in data1\n",
    "x = df1[df1.NewPK.isin(df2.NewPK) == False]"
   ]
  },
  {
   "cell_type": "code",
   "execution_count": 9,
   "id": "82775762",
   "metadata": {},
   "outputs": [
    {
     "name": "stdout",
     "output_type": "stream",
     "text": [
      "            Order_ID       Product_ID  Qty                           NewPK\n",
      "0     CA-2014-100006  TEC-PH-10002075    3  CA-2014-100006_TEC-PH-10002075\n",
      "10    CA-2014-100678  OFF-EN-10000056    3  CA-2014-100678_OFF-EN-10000056\n",
      "19    CA-2014-100895  OFF-AR-10004511    2  CA-2014-100895_OFF-AR-10004511\n",
      "35    CA-2014-101560  OFF-BI-10000309    3  CA-2014-101560_OFF-BI-10000309\n",
      "61    CA-2014-102673  OFF-LA-10001771   12  CA-2014-102673_OFF-LA-10001771\n",
      "...              ...              ...  ...                             ...\n",
      "9390  US-2017-160836  OFF-AP-10001626    2  US-2017-160836_OFF-AP-10001626\n",
      "9403  US-2017-162558  FUR-FU-10002364    2  US-2017-162558_FUR-FU-10002364\n",
      "9420  US-2017-163657  OFF-BI-10000138    5  US-2017-163657_OFF-BI-10000138\n",
      "9427  US-2017-164056  FUR-TA-10001307    5  US-2017-164056_FUR-TA-10001307\n",
      "9435  US-2017-165456  FUR-CH-10003981    6  US-2017-165456_FUR-CH-10003981\n",
      "\n",
      "[507 rows x 4 columns]\n"
     ]
    }
   ],
   "source": [
    "#Displaying 'x'\n",
    "print(x)"
   ]
  },
  {
   "cell_type": "code",
   "execution_count": 10,
   "id": "cd9ed6ab",
   "metadata": {},
   "outputs": [
    {
     "name": "stdout",
     "output_type": "stream",
     "text": [
      "507\n"
     ]
    }
   ],
   "source": [
    "#Displaying number of records which is in data1 but not in data2\n",
    "print(x.shape[0])"
   ]
  },
  {
   "cell_type": "markdown",
   "id": "199366c4",
   "metadata": {},
   "source": [
    "**2.How to identify the Records (Order ID + Product ID combination) present in data2 but missing in data1 (Specify the number of records missing in your answer)**"
   ]
  },
  {
   "cell_type": "code",
   "execution_count": 11,
   "id": "d18648ba",
   "metadata": {},
   "outputs": [],
   "source": [
    "#Fetching data which is in data2 but not in data1\n",
    "#y contains the data which is only in data2\n",
    "y = df2[df2.NewPK.isin(df1.NewPK) == False]"
   ]
  },
  {
   "cell_type": "code",
   "execution_count": 12,
   "id": "5511b546",
   "metadata": {},
   "outputs": [
    {
     "name": "stdout",
     "output_type": "stream",
     "text": [
      "            Order_ID       Product_ID  Qty                           NewPK\n",
      "11    CA-2014-100706  TEC-AC-10001314    2  CA-2014-100706_TEC-AC-10001314\n",
      "14    CA-2014-100762  OFF-PA-10001815    3  CA-2014-100762_OFF-PA-10001815\n",
      "30    CA-2014-101427  OFF-AR-10002257    3  CA-2014-101427_OFF-AR-10002257\n",
      "56    CA-2014-102652  FUR-FU-10001918    7  CA-2014-102652_FUR-FU-10001918\n",
      "63    CA-2014-102869  OFF-PA-10000788    3  CA-2014-102869_OFF-PA-10000788\n",
      "...              ...              ...  ...                             ...\n",
      "9428  US-2017-165344  OFF-BI-10003196   10  US-2017-165344_OFF-BI-10003196\n",
      "9433  US-2017-165358  TEC-CO-10001943    5  US-2017-165358_TEC-CO-10001943\n",
      "9455  US-2017-167920  OFF-AP-10000159    5  US-2017-167920_OFF-AP-10000159\n",
      "9471  US-2017-169502  OFF-AP-10001947    5  US-2017-169502_OFF-AP-10001947\n",
      "9473  US-2017-169551  FUR-BO-10001519    3  US-2017-169551_FUR-BO-10001519\n",
      "\n",
      "[508 rows x 4 columns]\n"
     ]
    }
   ],
   "source": [
    "#Displaying 'y'\n",
    "print(y)"
   ]
  },
  {
   "cell_type": "code",
   "execution_count": 13,
   "id": "6e9a3290",
   "metadata": {},
   "outputs": [
    {
     "name": "stdout",
     "output_type": "stream",
     "text": [
      "508\n"
     ]
    }
   ],
   "source": [
    "#Displaying number of records which is in data2 but not in data1\n",
    "print(y.shape[0])"
   ]
  },
  {
   "cell_type": "markdown",
   "id": "055d7326",
   "metadata": {},
   "source": [
    "**3.Find the Sum of the total Qty of Records missing in data1 but present in data2**"
   ]
  },
  {
   "cell_type": "code",
   "execution_count": 14,
   "id": "e17ebae1",
   "metadata": {},
   "outputs": [
    {
     "name": "stdout",
     "output_type": "stream",
     "text": [
      "1956\n"
     ]
    }
   ],
   "source": [
    "#'y' dataframe contains records present in data2 but not in data1\n",
    "#Sum of Quantities of 'y' dataframe will give the desired result\n",
    "print(y['Qty'].sum())"
   ]
  },
  {
   "cell_type": "markdown",
   "id": "7d760973",
   "metadata": {},
   "source": [
    "**4.Find the total number of unique records (Order ID Product ID combination) present in the combined dataset of data1 and data2**"
   ]
  },
  {
   "cell_type": "code",
   "execution_count": 15,
   "id": "9af6e0a2",
   "metadata": {},
   "outputs": [],
   "source": [
    "#Concatenating 'x' and 'y' to get the the records present in data1 but missing in data2 and the records present in data2 but missing in data1\n",
    "combined_xy = pd.concat([x, y])"
   ]
  },
  {
   "cell_type": "code",
   "execution_count": 16,
   "id": "a5d5d794",
   "metadata": {},
   "outputs": [
    {
     "name": "stdout",
     "output_type": "stream",
     "text": [
      "            Order_ID       Product_ID  Qty                           NewPK\n",
      "0     CA-2014-100006  TEC-PH-10002075    3  CA-2014-100006_TEC-PH-10002075\n",
      "10    CA-2014-100678  OFF-EN-10000056    3  CA-2014-100678_OFF-EN-10000056\n",
      "19    CA-2014-100895  OFF-AR-10004511    2  CA-2014-100895_OFF-AR-10004511\n",
      "35    CA-2014-101560  OFF-BI-10000309    3  CA-2014-101560_OFF-BI-10000309\n",
      "61    CA-2014-102673  OFF-LA-10001771   12  CA-2014-102673_OFF-LA-10001771\n",
      "...              ...              ...  ...                             ...\n",
      "9428  US-2017-165344  OFF-BI-10003196   10  US-2017-165344_OFF-BI-10003196\n",
      "9433  US-2017-165358  TEC-CO-10001943    5  US-2017-165358_TEC-CO-10001943\n",
      "9455  US-2017-167920  OFF-AP-10000159    5  US-2017-167920_OFF-AP-10000159\n",
      "9471  US-2017-169502  OFF-AP-10001947    5  US-2017-169502_OFF-AP-10001947\n",
      "9473  US-2017-169551  FUR-BO-10001519    3  US-2017-169551_FUR-BO-10001519\n",
      "\n",
      "[1015 rows x 4 columns]\n"
     ]
    }
   ],
   "source": [
    "#Displaying the newly concatenated 'combined_xy'\n",
    "print(combined_xy)"
   ]
  },
  {
   "cell_type": "code",
   "execution_count": 17,
   "id": "ceb0016d",
   "metadata": {},
   "outputs": [],
   "source": [
    "#Merging data1 and data2 to get the records common in data1 and data2\n",
    "merged_df = df1.merge(df2)"
   ]
  },
  {
   "cell_type": "code",
   "execution_count": 18,
   "id": "7439373d",
   "metadata": {},
   "outputs": [
    {
     "name": "stdout",
     "output_type": "stream",
     "text": [
      "            Order_ID       Product_ID  Qty                           NewPK\n",
      "0     CA-2014-100090  FUR-TA-10003715    3  CA-2014-100090_FUR-TA-10003715\n",
      "1     CA-2014-100090  OFF-BI-10001597    6  CA-2014-100090_OFF-BI-10001597\n",
      "2     CA-2014-100293  OFF-PA-10000176    6  CA-2014-100293_OFF-PA-10000176\n",
      "3     CA-2014-100328  OFF-BI-10000343    1  CA-2014-100328_OFF-BI-10000343\n",
      "4     CA-2014-100363  OFF-FA-10000611    2  CA-2014-100363_OFF-FA-10000611\n",
      "...              ...              ...  ...                             ...\n",
      "8966  US-2017-169551  OFF-PA-10004100    3  US-2017-169551_OFF-PA-10004100\n",
      "8967  US-2017-169551  OFF-ST-10004835    3  US-2017-169551_OFF-ST-10004835\n",
      "8968  US-2017-169551  TEC-AC-10002018    3  US-2017-169551_TEC-AC-10002018\n",
      "8969  US-2017-169551  TEC-AC-10003033    2  US-2017-169551_TEC-AC-10003033\n",
      "8970  US-2017-169551  TEC-PH-10001363    2  US-2017-169551_TEC-PH-10001363\n",
      "\n",
      "[8971 rows x 4 columns]\n"
     ]
    }
   ],
   "source": [
    "#Displaying 'merged_df'\n",
    "print(merged_df)"
   ]
  },
  {
   "cell_type": "code",
   "execution_count": 19,
   "id": "f76aa98c",
   "metadata": {},
   "outputs": [],
   "source": [
    "#Concatenating dataframes 'merged_df' and 'combined_xy' will give the result\n",
    "uniq_df = pd.concat([merged_df, combined_xy])"
   ]
  },
  {
   "cell_type": "code",
   "execution_count": 20,
   "id": "92947ae2",
   "metadata": {},
   "outputs": [
    {
     "name": "stdout",
     "output_type": "stream",
     "text": [
      "            Order_ID       Product_ID  Qty                           NewPK\n",
      "0     CA-2014-100090  FUR-TA-10003715    3  CA-2014-100090_FUR-TA-10003715\n",
      "1     CA-2014-100090  OFF-BI-10001597    6  CA-2014-100090_OFF-BI-10001597\n",
      "2     CA-2014-100293  OFF-PA-10000176    6  CA-2014-100293_OFF-PA-10000176\n",
      "3     CA-2014-100328  OFF-BI-10000343    1  CA-2014-100328_OFF-BI-10000343\n",
      "4     CA-2014-100363  OFF-FA-10000611    2  CA-2014-100363_OFF-FA-10000611\n",
      "...              ...              ...  ...                             ...\n",
      "9428  US-2017-165344  OFF-BI-10003196   10  US-2017-165344_OFF-BI-10003196\n",
      "9433  US-2017-165358  TEC-CO-10001943    5  US-2017-165358_TEC-CO-10001943\n",
      "9455  US-2017-167920  OFF-AP-10000159    5  US-2017-167920_OFF-AP-10000159\n",
      "9471  US-2017-169502  OFF-AP-10001947    5  US-2017-169502_OFF-AP-10001947\n",
      "9473  US-2017-169551  FUR-BO-10001519    3  US-2017-169551_FUR-BO-10001519\n",
      "\n",
      "[9986 rows x 4 columns]\n"
     ]
    }
   ],
   "source": [
    "#Displaying 'uniq_df'\n",
    "print(uniq_df)"
   ]
  },
  {
   "cell_type": "code",
   "execution_count": 22,
   "id": "9c492f5d",
   "metadata": {},
   "outputs": [
    {
     "name": "stdout",
     "output_type": "stream",
     "text": [
      "9986\n"
     ]
    }
   ],
   "source": [
    "#Total number of unique records in the combined dataset of df1 and df2\n",
    "print(uniq_df.shape[0])"
   ]
  },
  {
   "cell_type": "code",
   "execution_count": null,
   "id": "1070a43f",
   "metadata": {},
   "outputs": [],
   "source": []
  }
 ],
 "metadata": {
  "kernelspec": {
   "display_name": "Python 3 (ipykernel)",
   "language": "python",
   "name": "python3"
  },
  "language_info": {
   "codemirror_mode": {
    "name": "ipython",
    "version": 3
   },
   "file_extension": ".py",
   "mimetype": "text/x-python",
   "name": "python",
   "nbconvert_exporter": "python",
   "pygments_lexer": "ipython3",
   "version": "3.9.7"
  }
 },
 "nbformat": 4,
 "nbformat_minor": 5
}
